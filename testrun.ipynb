{
 "cells": [
  {
   "cell_type": "markdown",
   "metadata": {},
   "source": [
    "Import Stuff"
   ]
  },
  {
   "cell_type": "code",
   "execution_count": null,
   "metadata": {},
   "outputs": [],
   "source": [
    "import sys, time\n",
    "from users import user_data"
   ]
  },
  {
   "cell_type": "code",
   "execution_count": null,
   "metadata": {},
   "outputs": [],
   "source": [
    "def who_are_you():\n",
    "    user = input(\"Insert Card (type your user_code since we don't currently have card reader)\")\n",
    "    # if user name is not found in DB update user info\n",
    "    if user not in user_data:\n",
    "        print(\"You are a new user please provide your info\")\n",
    "        PIN = input(\"PIN:\")\n",
    "        accounts, balance = [], []\n",
    "        N = input(\"How many accounts? :\")\n",
    "\n",
    "        for i in range(int(N)):\n",
    "            acc = input(\"enter account id :\")\n",
    "            bal = input(\"enter balance :\")\n",
    "            accounts.append(acc)\n",
    "            balance.append(bal)\n",
    "\n",
    "        new_user_data = {\n",
    "            \"PIN\":PIN,\n",
    "            \"accounts\":accounts,\n",
    "            \"balance\":balance\n",
    "        }\n",
    "\n",
    "        user_data[user] = new_user_data\n",
    "\n",
    "    return user"
   ]
  },
  {
   "cell_type": "code",
   "execution_count": null,
   "metadata": {},
   "outputs": [],
   "source": [
    "class banking():\n",
    "    def __init__(self, user):\n",
    "        self.user = user\n",
    "        print(\"Welcome {user}! Verify with PIN\".format(user=self.user))\n",
    "        self.PIN = int(input(\"PIN :\"))\n",
    "    \n",
    "    def verify_user(self):\n",
    "        if self.PIN != user_data[self.user][\"PIN\"]:\n",
    "            self.cnt = 0\n",
    "            while self.cnt < 3:\n",
    "                self.PIN = int(input(\"retry PIN :\"))\n",
    "                if self.PIN == user_data[self.user][\"PIN\"]:\n",
    "                    break\n",
    "                self.cnt+=1\n",
    "\n",
    "            if self.PIN != user_data[self.user][\"PIN\"]:\n",
    "                print(\"wrong PIN user locked...\\n Please cnatace maintanence\")\n",
    "                sys.exit(\"Killing Program\")\n",
    "            else:\n",
    "                print(\"user verified\")\n",
    "                return True\n",
    "        else:\n",
    "            print(\"user verified\")\n",
    "            return True\n",
    "    \n",
    "    def log_in(self):\n",
    "        if self.verify_user():\n",
    "            return True\n",
    "        else:\n",
    "            sys.exit(\"Killing Program\")\n",
    "    \n",
    "    def menu_page(self):\n",
    "        print(\"\\t0. Logout and Exit\")\n",
    "        print(\"\\t1. View Account Balance\")\n",
    "        print(\"\\t2. Withdraw Cash\")\n",
    "        print(\"\\t3. Deposit Cash\")\n",
    "        print(\"\\t4. Change PIN\")\n",
    "        print(\"\\t5. Return Card\")\n",
    "        self.choice = int(input(\"Enter number to proceed > \"))\n",
    "        self.proceed_to_next()\n",
    "    \n",
    "    def proceed_to_next(self):\n",
    "        if self.choice == 0:\n",
    "            self.choose_0()\n",
    "        elif self.choice == 1:\n",
    "            self.choose_1()\n",
    "            self.return_to_main()\n",
    "        elif self.choice == 2:\n",
    "            self.return_to_main()\n",
    "            self.choose_2()\n",
    "        elif self.choice == 3:\n",
    "            self.choose_3()\n",
    "            self.return_to_main()\n",
    "        elif self.choice == 4:\n",
    "            self.choose_4()\n",
    "            self.return_to_main()\n",
    "        elif self.choice == 5:\n",
    "            self.choose_5()\n",
    "            self.return_to_main()\n",
    "\n",
    "    def select_account(self):\n",
    "        self.L = len(user_data[self.user][\"accounts\"])\n",
    "        for i in range(self.L):\n",
    "            print(\"account: \",user_data[self.user][\"accounts\"][i])\n",
    "        self.selected = int(input(\"select account : \"))\n",
    "        self.idx = user_data[self.user][\"accounts\"].index(self.selected)\n",
    "        return self.selected, self.idx\n",
    "\n",
    "    def choose_0(self):\n",
    "        print(\"Exiting...\")\n",
    "        time.sleep(1)\n",
    "        sys.exit(\"You have been logged out\")\n",
    "    \n",
    "    def choose_1(self):\n",
    "        self.account, self.idx = self.select_account()\n",
    "        print(\"Hello {user}! your account {account} balance is\".format(user=self.user, account=self.account))\n",
    "        print(\"${dollars}\".format(dollars=user_data[self.user][\"balance\"][self.idx]))\n",
    "        print(\"\\n\\n\")\n",
    "\n",
    "    def choose_2(self):\n",
    "        self.account = self.select_account()\n",
    "        print(\"\\n\\n\")\n",
    "    \n",
    "    def choose_3(self):\n",
    "        self.account = self.select_account()\n",
    "        print(\"\\n\\n\")\n",
    "    \n",
    "    def choose_4(self):\n",
    "        self.account = self.select_account()\n",
    "        print(\"\\n\\n\")\n",
    "\n",
    "    def choose_5(self):\n",
    "        self.account = self.select_account()\n",
    "        print(\"\\n\\n\")\n",
    "\n",
    "    def return_to_main(self):\n",
    "        self.next = int(input(\"Enter 0 if you want to exit 1 if you want to proceed to menu\"))\n",
    "        if self.next==1:\n",
    "            self.menu_page()\n",
    "        else:\n",
    "            sys.exit(\"program exit\")"
   ]
  },
  {
   "cell_type": "code",
   "execution_count": null,
   "metadata": {},
   "outputs": [],
   "source": [
    "def main():\n",
    "    user = who_are_you()\n",
    "    bank_use = banking(user)\n",
    "    if bank_use.log_in():\n",
    "        bank_use.menu_page()"
   ]
  },
  {
   "cell_type": "code",
   "execution_count": 2,
   "metadata": {},
   "outputs": [
    {
     "name": "stdout",
     "output_type": "stream",
     "text": [
      "You are a new user please provide your info\n",
      "Welcome 000003! Verify with PIN\n"
     ]
    },
    {
     "ename": "ValueError",
     "evalue": "invalid literal for int() with base 10: ''",
     "output_type": "error",
     "traceback": [
      "\u001b[1;31m---------------------------------------------------------------------------\u001b[0m",
      "\u001b[1;31mValueError\u001b[0m                                Traceback (most recent call last)",
      "\u001b[1;32m~\\AppData\\Local\\Temp/ipykernel_11724/549667142.py\u001b[0m in \u001b[0;36m<module>\u001b[1;34m\u001b[0m\n\u001b[0;32m     10\u001b[0m \u001b[1;33m\u001b[0m\u001b[0m\n\u001b[0;32m     11\u001b[0m \u001b[1;32mif\u001b[0m \u001b[0m__name__\u001b[0m\u001b[1;33m==\u001b[0m\u001b[1;34m\"__main__\"\u001b[0m\u001b[1;33m:\u001b[0m\u001b[1;33m\u001b[0m\u001b[1;33m\u001b[0m\u001b[0m\n\u001b[1;32m---> 12\u001b[1;33m     \u001b[0mmain\u001b[0m\u001b[1;33m(\u001b[0m\u001b[1;33m)\u001b[0m\u001b[1;33m\u001b[0m\u001b[1;33m\u001b[0m\u001b[0m\n\u001b[0m",
      "\u001b[1;32m~\\AppData\\Local\\Temp/ipykernel_11724/549667142.py\u001b[0m in \u001b[0;36mmain\u001b[1;34m()\u001b[0m\n\u001b[0;32m      6\u001b[0m     \u001b[0muser\u001b[0m \u001b[1;33m=\u001b[0m \u001b[0mwho_are_you\u001b[0m\u001b[1;33m(\u001b[0m\u001b[1;33m)\u001b[0m\u001b[1;33m\u001b[0m\u001b[1;33m\u001b[0m\u001b[0m\n\u001b[0;32m      7\u001b[0m     \u001b[0mbank_use\u001b[0m \u001b[1;33m=\u001b[0m \u001b[0mbanking\u001b[0m\u001b[1;33m(\u001b[0m\u001b[0muser\u001b[0m\u001b[1;33m)\u001b[0m\u001b[1;33m\u001b[0m\u001b[1;33m\u001b[0m\u001b[0m\n\u001b[1;32m----> 8\u001b[1;33m     \u001b[1;32mif\u001b[0m \u001b[0mbank_use\u001b[0m\u001b[1;33m.\u001b[0m\u001b[0mlog_in\u001b[0m\u001b[1;33m(\u001b[0m\u001b[1;33m)\u001b[0m\u001b[1;33m:\u001b[0m\u001b[1;33m\u001b[0m\u001b[1;33m\u001b[0m\u001b[0m\n\u001b[0m\u001b[0;32m      9\u001b[0m         \u001b[0mbank_use\u001b[0m\u001b[1;33m.\u001b[0m\u001b[0mmenu_page\u001b[0m\u001b[1;33m(\u001b[0m\u001b[1;33m)\u001b[0m\u001b[1;33m\u001b[0m\u001b[1;33m\u001b[0m\u001b[0m\n\u001b[0;32m     10\u001b[0m \u001b[1;33m\u001b[0m\u001b[0m\n",
      "\u001b[1;32mc:\\Users\\pawpa\\Desktop\\PAW-ATM-controller\\Banking.py\u001b[0m in \u001b[0;36mlog_in\u001b[1;34m(self)\u001b[0m\n\u001b[0;32m     54\u001b[0m \u001b[1;33m\u001b[0m\u001b[0m\n\u001b[0;32m     55\u001b[0m     \u001b[1;32mdef\u001b[0m \u001b[0mlog_in\u001b[0m\u001b[1;33m(\u001b[0m\u001b[0mself\u001b[0m\u001b[1;33m)\u001b[0m\u001b[1;33m:\u001b[0m\u001b[1;33m\u001b[0m\u001b[1;33m\u001b[0m\u001b[0m\n\u001b[1;32m---> 56\u001b[1;33m         \u001b[1;32mif\u001b[0m \u001b[0mself\u001b[0m\u001b[1;33m.\u001b[0m\u001b[0mverify_user\u001b[0m\u001b[1;33m(\u001b[0m\u001b[1;33m)\u001b[0m\u001b[1;33m:\u001b[0m\u001b[1;33m\u001b[0m\u001b[1;33m\u001b[0m\u001b[0m\n\u001b[0m\u001b[0;32m     57\u001b[0m             \u001b[1;32mreturn\u001b[0m \u001b[1;32mTrue\u001b[0m\u001b[1;33m\u001b[0m\u001b[1;33m\u001b[0m\u001b[0m\n\u001b[0;32m     58\u001b[0m         \u001b[1;32melse\u001b[0m\u001b[1;33m:\u001b[0m\u001b[1;33m\u001b[0m\u001b[1;33m\u001b[0m\u001b[0m\n",
      "\u001b[1;32mc:\\Users\\pawpa\\Desktop\\PAW-ATM-controller\\Banking.py\u001b[0m in \u001b[0;36mverify_user\u001b[1;34m(self)\u001b[0m\n\u001b[0;32m     38\u001b[0m             \u001b[0mself\u001b[0m\u001b[1;33m.\u001b[0m\u001b[0mcnt\u001b[0m \u001b[1;33m=\u001b[0m \u001b[1;36m0\u001b[0m\u001b[1;33m\u001b[0m\u001b[1;33m\u001b[0m\u001b[0m\n\u001b[0;32m     39\u001b[0m             \u001b[1;32mwhile\u001b[0m \u001b[0mself\u001b[0m\u001b[1;33m.\u001b[0m\u001b[0mcnt\u001b[0m \u001b[1;33m<\u001b[0m \u001b[1;36m3\u001b[0m\u001b[1;33m:\u001b[0m\u001b[1;33m\u001b[0m\u001b[1;33m\u001b[0m\u001b[0m\n\u001b[1;32m---> 40\u001b[1;33m                 \u001b[0mself\u001b[0m\u001b[1;33m.\u001b[0m\u001b[0mPIN\u001b[0m \u001b[1;33m=\u001b[0m \u001b[0mint\u001b[0m\u001b[1;33m(\u001b[0m\u001b[0minput\u001b[0m\u001b[1;33m(\u001b[0m\u001b[1;34m\"retry PIN :\"\u001b[0m\u001b[1;33m)\u001b[0m\u001b[1;33m)\u001b[0m\u001b[1;33m\u001b[0m\u001b[1;33m\u001b[0m\u001b[0m\n\u001b[0m\u001b[0;32m     41\u001b[0m                 \u001b[1;32mif\u001b[0m \u001b[0mself\u001b[0m\u001b[1;33m.\u001b[0m\u001b[0mPIN\u001b[0m \u001b[1;33m==\u001b[0m \u001b[0muser_data\u001b[0m\u001b[1;33m[\u001b[0m\u001b[0mself\u001b[0m\u001b[1;33m.\u001b[0m\u001b[0muser\u001b[0m\u001b[1;33m]\u001b[0m\u001b[1;33m[\u001b[0m\u001b[1;34m\"PIN\"\u001b[0m\u001b[1;33m]\u001b[0m\u001b[1;33m:\u001b[0m\u001b[1;33m\u001b[0m\u001b[1;33m\u001b[0m\u001b[0m\n\u001b[0;32m     42\u001b[0m                     \u001b[1;32mbreak\u001b[0m\u001b[1;33m\u001b[0m\u001b[1;33m\u001b[0m\u001b[0m\n",
      "\u001b[1;31mValueError\u001b[0m: invalid literal for int() with base 10: ''"
     ]
    }
   ],
   "source": [
    "import sys, time\n",
    "from users import user_data\n",
    "from Banking import who_are_you, banking\n",
    "\n",
    "def main():\n",
    "    user = who_are_you()\n",
    "    bank_use = banking(user)\n",
    "    if bank_use.log_in():\n",
    "        bank_use.menu_page()\n",
    "\n",
    "if __name__==\"__main__\":\n",
    "    main()"
   ]
  },
  {
   "cell_type": "code",
   "execution_count": 6,
   "metadata": {},
   "outputs": [
    {
     "name": "stdout",
     "output_type": "stream",
     "text": [
      "user_data = {\n",
      "    \"000001\":{\n",
      "        \"PIN\" : 1234,\n",
      "        \"accounts\":[12345,23456,34567],\n",
      "        \"balance\":[10,100,1000]\n",
      "    },\n",
      "    \"000002\":{\n",
      "        \"PIN\" : 2468,\n",
      "        \"accounts\":[24680,46802,68024],\n",
      "        \"balance\":[20,200,3000]\n",
      "    },\n",
      "}woops\n"
     ]
    }
   ],
   "source": [
    "import users\n",
    "\n",
    "f = open(\"users.py\",\"a\")\n",
    "\n",
    "f.close()\n",
    "f = open(\"users.py\",\"r\")\n",
    "print(f.read())"
   ]
  }
 ],
 "metadata": {
  "kernelspec": {
   "display_name": "Python 3.9.2 64-bit",
   "language": "python",
   "name": "python3"
  },
  "language_info": {
   "codemirror_mode": {
    "name": "ipython",
    "version": 3
   },
   "file_extension": ".py",
   "mimetype": "text/x-python",
   "name": "python",
   "nbconvert_exporter": "python",
   "pygments_lexer": "ipython3",
   "version": "3.9.2"
  },
  "orig_nbformat": 4,
  "vscode": {
   "interpreter": {
    "hash": "81794d4967e6c3204c66dcd87b604927b115b27c00565d3d43f05ba2f3a2cb0d"
   }
  }
 },
 "nbformat": 4,
 "nbformat_minor": 2
}
